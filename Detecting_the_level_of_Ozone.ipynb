{
  "nbformat": 4,
  "nbformat_minor": 0,
  "metadata": {
    "colab": {
      "name": "Detecting the level of Ozone",
      "provenance": [],
      "collapsed_sections": []
    },
    "kernelspec": {
      "name": "python3",
      "display_name": "Python 3"
    }
  },
  "cells": [
    {
      "cell_type": "markdown",
      "metadata": {
        "id": "yYoZzmU_uzbm",
        "colab_type": "text"
      },
      "source": [
        "# Importing the relevant libraries\n"
      ]
    },
    {
      "cell_type": "code",
      "metadata": {
        "id": "7E8NvFG-vKZr",
        "colab_type": "code",
        "colab": {}
      },
      "source": [
        "import pandas as pd \n",
        "import numpy as np \n",
        "%matplotlib inline\n",
        "\n",
        "\n"
      ],
      "execution_count": 71,
      "outputs": []
    },
    {
      "cell_type": "markdown",
      "metadata": {
        "id": "h2YgjxqGyuZ2",
        "colab_type": "text"
      },
      "source": [
        "# Loading the dataset"
      ]
    },
    {
      "cell_type": "code",
      "metadata": {
        "id": "WuSboAcc0hL3",
        "colab_type": "code",
        "colab": {
          "base_uri": "https://localhost:8080/",
          "height": 34
        },
        "outputId": "e265facf-dab6-40fd-90f6-5e8cfe17f76a"
      },
      "source": [
        "from pydrive.auth import GoogleAuth\n",
        "from pydrive.drive import GoogleDrive\n",
        "from google.colab import auth, drive\n",
        "from oauth2client.client import GoogleCredentials\n",
        " \n",
        "drive.mount('/content/drive')\n",
        "# Authenticate and create the PyDrive client.\n",
        "# This only needs to be done once per notebook.\n",
        "auth.authenticate_user()\n",
        "gauth = GoogleAuth()\n",
        "gauth.credentials = GoogleCredentials.get_application_default()\n",
        "drive = GoogleDrive(gauth)\n"
      ],
      "execution_count": 72,
      "outputs": [
        {
          "output_type": "stream",
          "text": [
            "Drive already mounted at /content/drive; to attempt to forcibly remount, call drive.mount(\"/content/drive\", force_remount=True).\n"
          ],
          "name": "stdout"
        }
      ]
    },
    {
      "cell_type": "code",
      "metadata": {
        "id": "xnDTl0SizYQC",
        "colab_type": "code",
        "colab": {
          "base_uri": "https://localhost:8080/",
          "height": 252
        },
        "outputId": "19be7c82-3a67-4661-ee7b-752f08f71f96"
      },
      "source": [
        "#Reading the data\n",
        "df =pd.read_csv('/content/drive/My Drive/ozone.csv')\n",
        "print(df)"
      ],
      "execution_count": 73,
      "outputs": [
        {
          "output_type": "stream",
          "text": [
            "            Date WSR0 WSR1 WSR2 WSR3  ...     TT    SLP SLP_ Precp Result\n",
            "0       1/1/1998  0.8  1.8  2.4  2.1  ...   17.9  10330  -55     0      0\n",
            "1       1/2/1998  2.8  3.2  3.3  2.7  ...     29  10275  -55     0      0\n",
            "2       1/3/1998  2.9  2.8  2.6  2.1  ...   41.3  10235  -40     0      0\n",
            "3       1/4/1998  4.7  3.8  3.7  3.8  ...   51.7  10195  -40  2.08      0\n",
            "4       1/5/1998  2.6  2.1  1.6  1.4  ...      ?      ?    ?  0.58      0\n",
            "...          ...  ...  ...  ...  ...  ...    ...    ...  ...   ...    ...\n",
            "2529  12/27/2004  0.3  0.4  0.5  0.5  ...   21.8  10295   65     0      0\n",
            "2530  12/28/2004    1  1.4  1.1  1.7  ...   19.1  10310   15     0      0\n",
            "2531  12/29/2004  0.8  0.8  1.2  0.9  ...   35.2  10275  -35     0      0\n",
            "2532  12/30/2004  1.3  0.9  1.5  1.2  ...   34.2  10245  -30  0.05      0\n",
            "2533  12/31/2004  1.5  1.3  1.8  1.4  ...  39.35  10220  -25     0      0\n",
            "\n",
            "[2534 rows x 74 columns]\n"
          ],
          "name": "stdout"
        }
      ]
    },
    {
      "cell_type": "markdown",
      "metadata": {
        "id": "gqUvHYST17UL",
        "colab_type": "text"
      },
      "source": [
        "# Analysing the dataset"
      ]
    },
    {
      "cell_type": "code",
      "metadata": {
        "id": "2Mb8GYwY2BFV",
        "colab_type": "code",
        "colab": {
          "base_uri": "https://localhost:8080/",
          "height": 536
        },
        "outputId": "f4f2fe07-afc5-4d7e-a21e-173542b9842e"
      },
      "source": [
        "print(\"The shape is:{}\".format(df.shape))\n",
        "print(\"The first 10 samples are : \\n{}\".format(df.head(n=10)))\n",
        "df.describe()"
      ],
      "execution_count": 74,
      "outputs": [
        {
          "output_type": "stream",
          "text": [
            "The shape is:(2534, 74)\n",
            "The first 10 samples are : \n",
            "        Date WSR0 WSR1 WSR2 WSR3 WSR4  ...     KI     TT    SLP SLP_ Precp Result\n",
            "0   1/1/1998  0.8  1.8  2.4  2.1    2  ...  -12.1   17.9  10330  -55     0      0\n",
            "1   1/2/1998  2.8  3.2  3.3  2.7  3.3  ...  14.05     29  10275  -55     0      0\n",
            "2   1/3/1998  2.9  2.8  2.6  2.1  2.2  ...   17.9   41.3  10235  -40     0      0\n",
            "3   1/4/1998  4.7  3.8  3.7  3.8  2.9  ...  31.15   51.7  10195  -40  2.08      0\n",
            "4   1/5/1998  2.6  2.1  1.6  1.4  0.9  ...      ?      ?      ?    ?  0.58      0\n",
            "5   1/6/1998  3.1  3.5  3.3  2.5  1.6  ...  27.95  46.25  10120    ?  5.84      0\n",
            "6   1/7/1998  3.7  3.2  3.8  5.1    6  ...  26.75  48.45  10040  -80  0.18      0\n",
            "7   1/8/1998  2.2  2.9  3.4  4.2  4.7  ...  -10.1     42  10065   25     0      0\n",
            "8   1/9/1998    1  1.5  1.2  1.2  0.7  ...   -3.4   32.9  10120   55     0      0\n",
            "9  1/10/1998  0.9  0.6  0.5  0.5  0.6  ...   -7.9   30.5  10180   60     0      0\n",
            "\n",
            "[10 rows x 74 columns]\n"
          ],
          "name": "stdout"
        },
        {
          "output_type": "execute_result",
          "data": {
            "text/html": [
              "<div>\n",
              "<style scoped>\n",
              "    .dataframe tbody tr th:only-of-type {\n",
              "        vertical-align: middle;\n",
              "    }\n",
              "\n",
              "    .dataframe tbody tr th {\n",
              "        vertical-align: top;\n",
              "    }\n",
              "\n",
              "    .dataframe thead th {\n",
              "        text-align: right;\n",
              "    }\n",
              "</style>\n",
              "<table border=\"1\" class=\"dataframe\">\n",
              "  <thead>\n",
              "    <tr style=\"text-align: right;\">\n",
              "      <th></th>\n",
              "      <th>Result</th>\n",
              "    </tr>\n",
              "  </thead>\n",
              "  <tbody>\n",
              "    <tr>\n",
              "      <th>count</th>\n",
              "      <td>2534.000000</td>\n",
              "    </tr>\n",
              "    <tr>\n",
              "      <th>mean</th>\n",
              "      <td>0.063141</td>\n",
              "    </tr>\n",
              "    <tr>\n",
              "      <th>std</th>\n",
              "      <td>0.243265</td>\n",
              "    </tr>\n",
              "    <tr>\n",
              "      <th>min</th>\n",
              "      <td>0.000000</td>\n",
              "    </tr>\n",
              "    <tr>\n",
              "      <th>25%</th>\n",
              "      <td>0.000000</td>\n",
              "    </tr>\n",
              "    <tr>\n",
              "      <th>50%</th>\n",
              "      <td>0.000000</td>\n",
              "    </tr>\n",
              "    <tr>\n",
              "      <th>75%</th>\n",
              "      <td>0.000000</td>\n",
              "    </tr>\n",
              "    <tr>\n",
              "      <th>max</th>\n",
              "      <td>1.000000</td>\n",
              "    </tr>\n",
              "  </tbody>\n",
              "</table>\n",
              "</div>"
            ],
            "text/plain": [
              "            Result\n",
              "count  2534.000000\n",
              "mean      0.063141\n",
              "std       0.243265\n",
              "min       0.000000\n",
              "25%       0.000000\n",
              "50%       0.000000\n",
              "75%       0.000000\n",
              "max       1.000000"
            ]
          },
          "metadata": {
            "tags": []
          },
          "execution_count": 74
        }
      ]
    },
    {
      "cell_type": "code",
      "metadata": {
        "id": "1kp61IIo457t",
        "colab_type": "code",
        "colab": {
          "base_uri": "https://localhost:8080/",
          "height": 215
        },
        "outputId": "3722d5cd-407d-4098-9225-7fed54788488"
      },
      "source": [
        "#Dropping unnecessary columns like date\n",
        "df.drop(columns = 'Date', inplace = True)\n",
        "df.head()\n",
        "#Replacing missing values\n",
        "df.replace(to_replace='?',value =np.nan, inplace =True)\n",
        "df.head()\n",
        "\n",
        "\n",
        "from sklearn.impute import SimpleImputer\n",
        "imputer = SimpleImputer(missing_values=np.nan, strategy='mean')\n",
        "df = pd.DataFrame(imputer.fit_transform(df), dtype='float64')\n",
        "df.columns = ['WSR0','WSR1','WSR2','WSR3','WSR4','WSR5','WSR6','WSR7','WSR8','WSR9','WSR10','WSR11','WSR12','WSR13','WSR14','WSR15','WSR16','WSR17','WSR18','WSR19','WSR20','WSR21','WSR22','WSR23','WSR_PK','WSR_AV','T0','T1','T2','T3','T4','T5','T6','T7','T8','T9','T10','T11','T12','T13','T14','T15','T16','T17','T18','T19','T20','T21','T22','T23','T_PK','T_AV','T85','RH85','U85','V85','HT85','T70','RH70','U70','V70','HT70','T50','RH50','U50','V50','HT50','KI','TT','SLP','SLP_','Precp','Result']\n",
        "df.head()\n"
      ],
      "execution_count": 75,
      "outputs": [
        {
          "output_type": "execute_result",
          "data": {
            "text/html": [
              "<div>\n",
              "<style scoped>\n",
              "    .dataframe tbody tr th:only-of-type {\n",
              "        vertical-align: middle;\n",
              "    }\n",
              "\n",
              "    .dataframe tbody tr th {\n",
              "        vertical-align: top;\n",
              "    }\n",
              "\n",
              "    .dataframe thead th {\n",
              "        text-align: right;\n",
              "    }\n",
              "</style>\n",
              "<table border=\"1\" class=\"dataframe\">\n",
              "  <thead>\n",
              "    <tr style=\"text-align: right;\">\n",
              "      <th></th>\n",
              "      <th>WSR0</th>\n",
              "      <th>WSR1</th>\n",
              "      <th>WSR2</th>\n",
              "      <th>WSR3</th>\n",
              "      <th>WSR4</th>\n",
              "      <th>WSR5</th>\n",
              "      <th>WSR6</th>\n",
              "      <th>WSR7</th>\n",
              "      <th>WSR8</th>\n",
              "      <th>WSR9</th>\n",
              "      <th>WSR10</th>\n",
              "      <th>WSR11</th>\n",
              "      <th>WSR12</th>\n",
              "      <th>WSR13</th>\n",
              "      <th>WSR14</th>\n",
              "      <th>WSR15</th>\n",
              "      <th>WSR16</th>\n",
              "      <th>WSR17</th>\n",
              "      <th>WSR18</th>\n",
              "      <th>WSR19</th>\n",
              "      <th>WSR20</th>\n",
              "      <th>WSR21</th>\n",
              "      <th>WSR22</th>\n",
              "      <th>WSR23</th>\n",
              "      <th>WSR_PK</th>\n",
              "      <th>WSR_AV</th>\n",
              "      <th>T0</th>\n",
              "      <th>T1</th>\n",
              "      <th>T2</th>\n",
              "      <th>T3</th>\n",
              "      <th>T4</th>\n",
              "      <th>T5</th>\n",
              "      <th>T6</th>\n",
              "      <th>T7</th>\n",
              "      <th>T8</th>\n",
              "      <th>T9</th>\n",
              "      <th>T10</th>\n",
              "      <th>T11</th>\n",
              "      <th>T12</th>\n",
              "      <th>T13</th>\n",
              "      <th>T14</th>\n",
              "      <th>T15</th>\n",
              "      <th>T16</th>\n",
              "      <th>T17</th>\n",
              "      <th>T18</th>\n",
              "      <th>T19</th>\n",
              "      <th>T20</th>\n",
              "      <th>T21</th>\n",
              "      <th>T22</th>\n",
              "      <th>T23</th>\n",
              "      <th>T_PK</th>\n",
              "      <th>T_AV</th>\n",
              "      <th>T85</th>\n",
              "      <th>RH85</th>\n",
              "      <th>U85</th>\n",
              "      <th>V85</th>\n",
              "      <th>HT85</th>\n",
              "      <th>T70</th>\n",
              "      <th>RH70</th>\n",
              "      <th>U70</th>\n",
              "      <th>V70</th>\n",
              "      <th>HT70</th>\n",
              "      <th>T50</th>\n",
              "      <th>RH50</th>\n",
              "      <th>U50</th>\n",
              "      <th>V50</th>\n",
              "      <th>HT50</th>\n",
              "      <th>KI</th>\n",
              "      <th>TT</th>\n",
              "      <th>SLP</th>\n",
              "      <th>SLP_</th>\n",
              "      <th>Precp</th>\n",
              "      <th>Result</th>\n",
              "    </tr>\n",
              "  </thead>\n",
              "  <tbody>\n",
              "    <tr>\n",
              "      <th>0</th>\n",
              "      <td>0.8</td>\n",
              "      <td>1.8</td>\n",
              "      <td>2.4</td>\n",
              "      <td>2.1</td>\n",
              "      <td>2.0</td>\n",
              "      <td>2.1</td>\n",
              "      <td>1.5</td>\n",
              "      <td>1.7</td>\n",
              "      <td>1.9</td>\n",
              "      <td>2.3</td>\n",
              "      <td>3.7</td>\n",
              "      <td>5.5</td>\n",
              "      <td>5.1</td>\n",
              "      <td>5.4</td>\n",
              "      <td>5.4</td>\n",
              "      <td>4.7</td>\n",
              "      <td>4.3</td>\n",
              "      <td>3.5</td>\n",
              "      <td>3.5</td>\n",
              "      <td>2.9</td>\n",
              "      <td>3.2</td>\n",
              "      <td>3.2</td>\n",
              "      <td>2.8</td>\n",
              "      <td>2.6</td>\n",
              "      <td>5.5</td>\n",
              "      <td>3.1</td>\n",
              "      <td>5.2</td>\n",
              "      <td>6.1</td>\n",
              "      <td>6.1</td>\n",
              "      <td>6.1</td>\n",
              "      <td>6.1</td>\n",
              "      <td>5.6</td>\n",
              "      <td>5.2</td>\n",
              "      <td>5.4</td>\n",
              "      <td>7.2</td>\n",
              "      <td>10.6</td>\n",
              "      <td>14.5</td>\n",
              "      <td>17.2</td>\n",
              "      <td>18.3</td>\n",
              "      <td>18.9</td>\n",
              "      <td>19.1</td>\n",
              "      <td>18.9</td>\n",
              "      <td>18.3</td>\n",
              "      <td>17.3</td>\n",
              "      <td>16.8</td>\n",
              "      <td>16.1</td>\n",
              "      <td>15.4</td>\n",
              "      <td>14.9</td>\n",
              "      <td>14.8</td>\n",
              "      <td>15.0</td>\n",
              "      <td>19.1</td>\n",
              "      <td>12.5</td>\n",
              "      <td>6.700000</td>\n",
              "      <td>0.11000</td>\n",
              "      <td>3.830000</td>\n",
              "      <td>0.140000</td>\n",
              "      <td>1612.00000</td>\n",
              "      <td>-2.300000</td>\n",
              "      <td>0.300000</td>\n",
              "      <td>7.180000</td>\n",
              "      <td>0.120000</td>\n",
              "      <td>3178.500000</td>\n",
              "      <td>-15.50000</td>\n",
              "      <td>0.150000</td>\n",
              "      <td>10.670000</td>\n",
              "      <td>-1.560000</td>\n",
              "      <td>5795.000000</td>\n",
              "      <td>-12.100000</td>\n",
              "      <td>17.900000</td>\n",
              "      <td>10330.000000</td>\n",
              "      <td>-55.000000</td>\n",
              "      <td>0.00</td>\n",
              "      <td>0.0</td>\n",
              "    </tr>\n",
              "    <tr>\n",
              "      <th>1</th>\n",
              "      <td>2.8</td>\n",
              "      <td>3.2</td>\n",
              "      <td>3.3</td>\n",
              "      <td>2.7</td>\n",
              "      <td>3.3</td>\n",
              "      <td>3.2</td>\n",
              "      <td>2.9</td>\n",
              "      <td>2.8</td>\n",
              "      <td>3.1</td>\n",
              "      <td>3.4</td>\n",
              "      <td>4.2</td>\n",
              "      <td>4.5</td>\n",
              "      <td>4.5</td>\n",
              "      <td>4.3</td>\n",
              "      <td>5.5</td>\n",
              "      <td>5.1</td>\n",
              "      <td>3.8</td>\n",
              "      <td>3.0</td>\n",
              "      <td>2.6</td>\n",
              "      <td>3.0</td>\n",
              "      <td>2.2</td>\n",
              "      <td>2.3</td>\n",
              "      <td>2.5</td>\n",
              "      <td>2.8</td>\n",
              "      <td>5.5</td>\n",
              "      <td>3.4</td>\n",
              "      <td>15.1</td>\n",
              "      <td>15.3</td>\n",
              "      <td>15.6</td>\n",
              "      <td>15.6</td>\n",
              "      <td>15.9</td>\n",
              "      <td>16.2</td>\n",
              "      <td>16.2</td>\n",
              "      <td>16.2</td>\n",
              "      <td>16.6</td>\n",
              "      <td>17.8</td>\n",
              "      <td>19.4</td>\n",
              "      <td>20.6</td>\n",
              "      <td>21.2</td>\n",
              "      <td>21.8</td>\n",
              "      <td>22.4</td>\n",
              "      <td>22.1</td>\n",
              "      <td>20.8</td>\n",
              "      <td>19.1</td>\n",
              "      <td>18.1</td>\n",
              "      <td>17.2</td>\n",
              "      <td>16.5</td>\n",
              "      <td>16.1</td>\n",
              "      <td>16.0</td>\n",
              "      <td>16.2</td>\n",
              "      <td>22.4</td>\n",
              "      <td>17.8</td>\n",
              "      <td>9.000000</td>\n",
              "      <td>0.25000</td>\n",
              "      <td>-0.410000</td>\n",
              "      <td>9.530000</td>\n",
              "      <td>1594.50000</td>\n",
              "      <td>-2.200000</td>\n",
              "      <td>0.960000</td>\n",
              "      <td>8.240000</td>\n",
              "      <td>7.300000</td>\n",
              "      <td>3172.000000</td>\n",
              "      <td>-14.50000</td>\n",
              "      <td>0.480000</td>\n",
              "      <td>8.390000</td>\n",
              "      <td>3.840000</td>\n",
              "      <td>5805.000000</td>\n",
              "      <td>14.050000</td>\n",
              "      <td>29.000000</td>\n",
              "      <td>10275.000000</td>\n",
              "      <td>-55.000000</td>\n",
              "      <td>0.00</td>\n",
              "      <td>0.0</td>\n",
              "    </tr>\n",
              "    <tr>\n",
              "      <th>2</th>\n",
              "      <td>2.9</td>\n",
              "      <td>2.8</td>\n",
              "      <td>2.6</td>\n",
              "      <td>2.1</td>\n",
              "      <td>2.2</td>\n",
              "      <td>2.5</td>\n",
              "      <td>2.5</td>\n",
              "      <td>2.7</td>\n",
              "      <td>2.2</td>\n",
              "      <td>2.5</td>\n",
              "      <td>3.1</td>\n",
              "      <td>4.0</td>\n",
              "      <td>4.4</td>\n",
              "      <td>4.6</td>\n",
              "      <td>5.6</td>\n",
              "      <td>5.4</td>\n",
              "      <td>5.2</td>\n",
              "      <td>4.4</td>\n",
              "      <td>3.5</td>\n",
              "      <td>2.7</td>\n",
              "      <td>2.9</td>\n",
              "      <td>3.9</td>\n",
              "      <td>4.1</td>\n",
              "      <td>4.6</td>\n",
              "      <td>5.6</td>\n",
              "      <td>3.5</td>\n",
              "      <td>16.6</td>\n",
              "      <td>16.7</td>\n",
              "      <td>16.7</td>\n",
              "      <td>16.8</td>\n",
              "      <td>16.8</td>\n",
              "      <td>16.8</td>\n",
              "      <td>16.9</td>\n",
              "      <td>16.9</td>\n",
              "      <td>17.1</td>\n",
              "      <td>17.6</td>\n",
              "      <td>19.1</td>\n",
              "      <td>21.3</td>\n",
              "      <td>21.8</td>\n",
              "      <td>22.0</td>\n",
              "      <td>22.1</td>\n",
              "      <td>22.2</td>\n",
              "      <td>21.3</td>\n",
              "      <td>19.8</td>\n",
              "      <td>18.6</td>\n",
              "      <td>18.0</td>\n",
              "      <td>18.0</td>\n",
              "      <td>18.2</td>\n",
              "      <td>18.3</td>\n",
              "      <td>18.4</td>\n",
              "      <td>22.2</td>\n",
              "      <td>18.7</td>\n",
              "      <td>9.000000</td>\n",
              "      <td>0.56000</td>\n",
              "      <td>0.890000</td>\n",
              "      <td>10.170000</td>\n",
              "      <td>1568.50000</td>\n",
              "      <td>0.900000</td>\n",
              "      <td>0.540000</td>\n",
              "      <td>3.800000</td>\n",
              "      <td>4.420000</td>\n",
              "      <td>3160.000000</td>\n",
              "      <td>-15.90000</td>\n",
              "      <td>0.600000</td>\n",
              "      <td>6.940000</td>\n",
              "      <td>9.800000</td>\n",
              "      <td>5790.000000</td>\n",
              "      <td>17.900000</td>\n",
              "      <td>41.300000</td>\n",
              "      <td>10235.000000</td>\n",
              "      <td>-40.000000</td>\n",
              "      <td>0.00</td>\n",
              "      <td>0.0</td>\n",
              "    </tr>\n",
              "    <tr>\n",
              "      <th>3</th>\n",
              "      <td>4.7</td>\n",
              "      <td>3.8</td>\n",
              "      <td>3.7</td>\n",
              "      <td>3.8</td>\n",
              "      <td>2.9</td>\n",
              "      <td>3.1</td>\n",
              "      <td>2.8</td>\n",
              "      <td>2.5</td>\n",
              "      <td>2.4</td>\n",
              "      <td>3.1</td>\n",
              "      <td>3.3</td>\n",
              "      <td>3.1</td>\n",
              "      <td>2.3</td>\n",
              "      <td>2.1</td>\n",
              "      <td>2.2</td>\n",
              "      <td>3.8</td>\n",
              "      <td>2.8</td>\n",
              "      <td>2.4</td>\n",
              "      <td>1.9</td>\n",
              "      <td>3.2</td>\n",
              "      <td>4.1</td>\n",
              "      <td>3.9</td>\n",
              "      <td>4.5</td>\n",
              "      <td>4.3</td>\n",
              "      <td>4.7</td>\n",
              "      <td>3.2</td>\n",
              "      <td>18.3</td>\n",
              "      <td>18.2</td>\n",
              "      <td>18.3</td>\n",
              "      <td>18.4</td>\n",
              "      <td>18.6</td>\n",
              "      <td>18.6</td>\n",
              "      <td>18.5</td>\n",
              "      <td>18.7</td>\n",
              "      <td>18.6</td>\n",
              "      <td>18.8</td>\n",
              "      <td>19.0</td>\n",
              "      <td>19.0</td>\n",
              "      <td>19.3</td>\n",
              "      <td>19.4</td>\n",
              "      <td>19.6</td>\n",
              "      <td>19.2</td>\n",
              "      <td>18.9</td>\n",
              "      <td>18.8</td>\n",
              "      <td>18.6</td>\n",
              "      <td>18.5</td>\n",
              "      <td>18.3</td>\n",
              "      <td>18.5</td>\n",
              "      <td>18.8</td>\n",
              "      <td>18.9</td>\n",
              "      <td>19.6</td>\n",
              "      <td>18.7</td>\n",
              "      <td>9.900000</td>\n",
              "      <td>0.89000</td>\n",
              "      <td>-0.340000</td>\n",
              "      <td>8.580000</td>\n",
              "      <td>1546.50000</td>\n",
              "      <td>3.000000</td>\n",
              "      <td>0.770000</td>\n",
              "      <td>4.170000</td>\n",
              "      <td>8.110000</td>\n",
              "      <td>3145.500000</td>\n",
              "      <td>-16.80000</td>\n",
              "      <td>0.490000</td>\n",
              "      <td>8.730000</td>\n",
              "      <td>10.540000</td>\n",
              "      <td>5775.000000</td>\n",
              "      <td>31.150000</td>\n",
              "      <td>51.700000</td>\n",
              "      <td>10195.000000</td>\n",
              "      <td>-40.000000</td>\n",
              "      <td>2.08</td>\n",
              "      <td>0.0</td>\n",
              "    </tr>\n",
              "    <tr>\n",
              "      <th>4</th>\n",
              "      <td>2.6</td>\n",
              "      <td>2.1</td>\n",
              "      <td>1.6</td>\n",
              "      <td>1.4</td>\n",
              "      <td>0.9</td>\n",
              "      <td>1.5</td>\n",
              "      <td>1.2</td>\n",
              "      <td>1.4</td>\n",
              "      <td>1.3</td>\n",
              "      <td>1.4</td>\n",
              "      <td>2.2</td>\n",
              "      <td>2.0</td>\n",
              "      <td>3.0</td>\n",
              "      <td>3.0</td>\n",
              "      <td>3.1</td>\n",
              "      <td>3.1</td>\n",
              "      <td>2.7</td>\n",
              "      <td>3.0</td>\n",
              "      <td>2.4</td>\n",
              "      <td>2.8</td>\n",
              "      <td>2.5</td>\n",
              "      <td>2.5</td>\n",
              "      <td>3.7</td>\n",
              "      <td>3.4</td>\n",
              "      <td>3.7</td>\n",
              "      <td>2.3</td>\n",
              "      <td>18.8</td>\n",
              "      <td>18.6</td>\n",
              "      <td>18.5</td>\n",
              "      <td>18.5</td>\n",
              "      <td>18.6</td>\n",
              "      <td>18.9</td>\n",
              "      <td>19.2</td>\n",
              "      <td>19.4</td>\n",
              "      <td>19.8</td>\n",
              "      <td>20.5</td>\n",
              "      <td>21.1</td>\n",
              "      <td>21.9</td>\n",
              "      <td>23.8</td>\n",
              "      <td>25.1</td>\n",
              "      <td>25.8</td>\n",
              "      <td>26.0</td>\n",
              "      <td>25.6</td>\n",
              "      <td>24.2</td>\n",
              "      <td>22.9</td>\n",
              "      <td>21.6</td>\n",
              "      <td>20.0</td>\n",
              "      <td>19.5</td>\n",
              "      <td>19.1</td>\n",
              "      <td>19.1</td>\n",
              "      <td>26.0</td>\n",
              "      <td>21.1</td>\n",
              "      <td>13.575298</td>\n",
              "      <td>0.57732</td>\n",
              "      <td>2.136487</td>\n",
              "      <td>1.662464</td>\n",
              "      <td>1531.49426</td>\n",
              "      <td>5.931129</td>\n",
              "      <td>0.406445</td>\n",
              "      <td>5.459634</td>\n",
              "      <td>0.994001</td>\n",
              "      <td>3145.420501</td>\n",
              "      <td>-10.51141</td>\n",
              "      <td>0.304716</td>\n",
              "      <td>9.872418</td>\n",
              "      <td>0.830116</td>\n",
              "      <td>5818.821222</td>\n",
              "      <td>10.511051</td>\n",
              "      <td>37.388335</td>\n",
              "      <td>10164.198442</td>\n",
              "      <td>-0.119949</td>\n",
              "      <td>0.58</td>\n",
              "      <td>0.0</td>\n",
              "    </tr>\n",
              "  </tbody>\n",
              "</table>\n",
              "</div>"
            ],
            "text/plain": [
              "   WSR0  WSR1  WSR2  WSR3  ...           SLP       SLP_  Precp  Result\n",
              "0   0.8   1.8   2.4   2.1  ...  10330.000000 -55.000000   0.00     0.0\n",
              "1   2.8   3.2   3.3   2.7  ...  10275.000000 -55.000000   0.00     0.0\n",
              "2   2.9   2.8   2.6   2.1  ...  10235.000000 -40.000000   0.00     0.0\n",
              "3   4.7   3.8   3.7   3.8  ...  10195.000000 -40.000000   2.08     0.0\n",
              "4   2.6   2.1   1.6   1.4  ...  10164.198442  -0.119949   0.58     0.0\n",
              "\n",
              "[5 rows x 73 columns]"
            ]
          },
          "metadata": {
            "tags": []
          },
          "execution_count": 75
        }
      ]
    },
    {
      "cell_type": "code",
      "metadata": {
        "id": "ORu9CD2t9WCN",
        "colab_type": "code",
        "colab": {
          "base_uri": "https://localhost:8080/",
          "height": 1000
        },
        "outputId": "bd36de8f-92d0-4ccd-f4a0-c01b0fa0cdf2"
      },
      "source": [
        "#Checkking if all the Nan values are gone or not\n",
        "for column in df:\n",
        "  if np.nan in df[column].values:\n",
        "    print(\"There are nan values\")\n",
        "  else:\n",
        "    print(\"All the nan values are gone\")\n",
        "  "
      ],
      "execution_count": 76,
      "outputs": [
        {
          "output_type": "stream",
          "text": [
            "All the nan values are gone\n",
            "All the nan values are gone\n",
            "All the nan values are gone\n",
            "All the nan values are gone\n",
            "All the nan values are gone\n",
            "All the nan values are gone\n",
            "All the nan values are gone\n",
            "All the nan values are gone\n",
            "All the nan values are gone\n",
            "All the nan values are gone\n",
            "All the nan values are gone\n",
            "All the nan values are gone\n",
            "All the nan values are gone\n",
            "All the nan values are gone\n",
            "All the nan values are gone\n",
            "All the nan values are gone\n",
            "All the nan values are gone\n",
            "All the nan values are gone\n",
            "All the nan values are gone\n",
            "All the nan values are gone\n",
            "All the nan values are gone\n",
            "All the nan values are gone\n",
            "All the nan values are gone\n",
            "All the nan values are gone\n",
            "All the nan values are gone\n",
            "All the nan values are gone\n",
            "All the nan values are gone\n",
            "All the nan values are gone\n",
            "All the nan values are gone\n",
            "All the nan values are gone\n",
            "All the nan values are gone\n",
            "All the nan values are gone\n",
            "All the nan values are gone\n",
            "All the nan values are gone\n",
            "All the nan values are gone\n",
            "All the nan values are gone\n",
            "All the nan values are gone\n",
            "All the nan values are gone\n",
            "All the nan values are gone\n",
            "All the nan values are gone\n",
            "All the nan values are gone\n",
            "All the nan values are gone\n",
            "All the nan values are gone\n",
            "All the nan values are gone\n",
            "All the nan values are gone\n",
            "All the nan values are gone\n",
            "All the nan values are gone\n",
            "All the nan values are gone\n",
            "All the nan values are gone\n",
            "All the nan values are gone\n",
            "All the nan values are gone\n",
            "All the nan values are gone\n",
            "All the nan values are gone\n",
            "All the nan values are gone\n",
            "All the nan values are gone\n",
            "All the nan values are gone\n",
            "All the nan values are gone\n",
            "All the nan values are gone\n",
            "All the nan values are gone\n",
            "All the nan values are gone\n",
            "All the nan values are gone\n",
            "All the nan values are gone\n",
            "All the nan values are gone\n",
            "All the nan values are gone\n",
            "All the nan values are gone\n",
            "All the nan values are gone\n",
            "All the nan values are gone\n",
            "All the nan values are gone\n",
            "All the nan values are gone\n",
            "All the nan values are gone\n",
            "All the nan values are gone\n",
            "All the nan values are gone\n",
            "All the nan values are gone\n"
          ],
          "name": "stdout"
        }
      ]
    },
    {
      "cell_type": "markdown",
      "metadata": {
        "id": "wNEVfMrj_lML",
        "colab_type": "text"
      },
      "source": [
        "# Splitting the dataset into testing and training datasets"
      ]
    },
    {
      "cell_type": "code",
      "metadata": {
        "id": "aHSQZkBx_jTJ",
        "colab_type": "code",
        "colab": {
          "base_uri": "https://localhost:8080/",
          "height": 252
        },
        "outputId": "9dd6efb7-abfe-40ff-fad9-0a2d119f3e69"
      },
      "source": [
        "\n",
        "\n",
        "# Splitting the dataset into feature(X) and target(Y)\n",
        "X = df.iloc[:,:-1].values\n",
        "y = df.iloc[:,-1].values\n",
        "print(y)\n",
        "print(X)\n",
        "from sklearn.model_selection import train_test_split\n",
        "X_train, X_test, y_train, y_test = train_test_split(X,y,random_state =0)"
      ],
      "execution_count": 77,
      "outputs": [
        {
          "output_type": "stream",
          "text": [
            "[0. 0. 0. ... 0. 0. 0.]\n",
            "[[ 8.0000e-01  1.8000e+00  2.4000e+00 ...  1.0330e+04 -5.5000e+01\n",
            "   0.0000e+00]\n",
            " [ 2.8000e+00  3.2000e+00  3.3000e+00 ...  1.0275e+04 -5.5000e+01\n",
            "   0.0000e+00]\n",
            " [ 2.9000e+00  2.8000e+00  2.6000e+00 ...  1.0235e+04 -4.0000e+01\n",
            "   0.0000e+00]\n",
            " ...\n",
            " [ 8.0000e-01  8.0000e-01  1.2000e+00 ...  1.0275e+04 -3.5000e+01\n",
            "   0.0000e+00]\n",
            " [ 1.3000e+00  9.0000e-01  1.5000e+00 ...  1.0245e+04 -3.0000e+01\n",
            "   5.0000e-02]\n",
            " [ 1.5000e+00  1.3000e+00  1.8000e+00 ...  1.0220e+04 -2.5000e+01\n",
            "   0.0000e+00]]\n"
          ],
          "name": "stdout"
        }
      ]
    },
    {
      "cell_type": "markdown",
      "metadata": {
        "id": "5UPdjmJHAZGb",
        "colab_type": "text"
      },
      "source": [
        "# Visualizing the data \n"
      ]
    },
    {
      "cell_type": "markdown",
      "metadata": {
        "id": "awKfWakBCHFK",
        "colab_type": "text"
      },
      "source": [
        "Peak Temperature plots:"
      ]
    },
    {
      "cell_type": "code",
      "metadata": {
        "id": "E1iS8zFsAf2F",
        "colab_type": "code",
        "colab": {
          "base_uri": "https://localhost:8080/",
          "height": 413
        },
        "outputId": "67be21cf-de90-4708-f9f5-5c1cbf2e2cd6"
      },
      "source": [
        "import matplotlib.pyplot as plt\n",
        "import seaborn as sns \n",
        "fig = plt.figure(figsize = (14,4))\n",
        "title = fig.suptitle(\"Peak Temperatures\", fontsize=14)\n",
        "fig.subplots_adjust(top=0.85, wspace=0.3)\n",
        "\n",
        "# Plotting the Histogram\n",
        "ax = fig.add_subplot(1,2, 1)\n",
        "ax.set_xlabel(\"Temperature\")\n",
        "ax.set_ylabel(\"Frequency\") \n",
        "ax.text(1.2, 800, r'$\\mu$='+str(round(df['T_PK'].mean(),2)), \n",
        "         fontsize=12)\n",
        "freq, bins, patches = ax.hist(df['T_PK'], color='steelblue', bins=15,\n",
        "                                    edgecolor='black', linewidth=1)\n",
        "#PLotting the density plot \n",
        "# Density Plot\n",
        "ax1 = fig.add_subplot(1,2, 2)\n",
        "ax1.set_xlabel(\"Temperature\")\n",
        "ax1.set_ylabel(\"Frequency\") \n",
        "sns.kdeplot(df['T_PK'], ax=ax1, shade=True, color='steelblue')\n"
      ],
      "execution_count": 78,
      "outputs": [
        {
          "output_type": "execute_result",
          "data": {
            "text/plain": [
              "<matplotlib.axes._subplots.AxesSubplot at 0x7f2739cda1d0>"
            ]
          },
          "metadata": {
            "tags": []
          },
          "execution_count": 78
        },
        {
          "output_type": "display_data",
          "data": {
            "image/png": "[encoded data removed]",
            "text/plain": [
              "<Figure size 1008x288 with 2 Axes>"
            ]
          },
          "metadata": {
            "tags": [],
            "needs_background": "light"
          }
        }
      ]
    },
    {
      "cell_type": "markdown",
      "metadata": {
        "id": "ihISCkSzCM0g",
        "colab_type": "text"
      },
      "source": [
        "Peak Wind speed plots:\n"
      ]
    },
    {
      "cell_type": "code",
      "metadata": {
        "id": "aAktVyfXCQu-",
        "colab_type": "code",
        "colab": {
          "base_uri": "https://localhost:8080/",
          "height": 325
        },
        "outputId": "63c34e5a-e37b-4467-818c-57048fa4468a"
      },
      "source": [
        "fig = plt.figure(figsize = (14,4))\n",
        "title = fig.suptitle(\"Peak WSR\", fontsize=14)\n",
        "fig.subplots_adjust(top=0.85, wspace=0.3)\n",
        "\n",
        "# PLotting the histogram\n",
        "ax = fig.add_subplot(1,2, 1)\n",
        "ax.set_xlabel(\"Wind Speed\")\n",
        "ax.set_ylabel(\"Frequency\") \n",
        "ax.text(1.2, 800, r'$\\mu$='+str(round(df['WSR_PK'].mean(),2)), \n",
        "         fontsize=12)\n",
        "freq, bins, patches = ax.hist(df['WSR_PK'], color='steelblue', bins=15,\n",
        "                                    edgecolor='black', linewidth=1)\n",
        "\n",
        "\n",
        "# PLotting the Density Plot\n",
        "ax1 = fig.add_subplot(1,2, 2)\n",
        "ax1.set_xlabel(\"Wind Speed\")\n",
        "ax1.set_ylabel(\"Frequency\") \n",
        "sns.kdeplot(df['T_PK'], ax=ax1, shade=True, color='steelblue')"
      ],
      "execution_count": 79,
      "outputs": [
        {
          "output_type": "execute_result",
          "data": {
            "text/plain": [
              "<matplotlib.axes._subplots.AxesSubplot at 0x7f27329a9ba8>"
            ]
          },
          "metadata": {
            "tags": []
          },
          "execution_count": 79
        },
        {
          "output_type": "display_data",
          "data": {
            "image/png": "[encoded data removed]",
            "text/plain": [
              "<Figure size 1008x288 with 2 Axes>"
            ]
          },
          "metadata": {
            "tags": [],
            "needs_background": "light"
          }
        }
      ]
    },
    {
      "cell_type": "markdown",
      "metadata": {
        "id": "sLoYpOvVDpDC",
        "colab_type": "text"
      },
      "source": [
        "Correlation matrix Heatmap"
      ]
    },
    {
      "cell_type": "code",
      "metadata": {
        "id": "2pWdkjb9Ds19",
        "colab_type": "code",
        "colab": {
          "base_uri": "https://localhost:8080/",
          "height": 418
        },
        "outputId": "58535394-43c4-46ea-c973-0144272dac2b"
      },
      "source": [
        "# Correlation Matrix Heatmap\n",
        "f, ax = plt.subplots(figsize=(10, 6))\n",
        "subset_attributes = ['WSR_PK','T_PK','T85','T70','RH70','U70','V70','HT70','KI','TT','SLP','SLP_','Precp']\n",
        "corr = df[subset_attributes].corr()\n",
        "hm = sns.heatmap(round(corr,2), annot=True, ax=ax, cmap=\"coolwarm\",fmt='.2f',\n",
        "                 linewidths=.05)\n",
        "f.subplots_adjust(top=0.93)\n",
        "t= f.suptitle('Ozone Level Characteristics Correlation Heatmap', fontsize=14)"
      ],
      "execution_count": 80,
      "outputs": [
        {
          "output_type": "display_data",
          "data": {
            "image/png": "[encoded data removed]",
            "text/plain": [
              "<Figure size 720x432 with 2 Axes>"
            ]
          },
          "metadata": {
            "tags": [],
            "needs_background": "light"
          }
        }
      ]
    },
    {
      "cell_type": "markdown",
      "metadata": {
        "id": "HYl_XwYaD4J-",
        "colab_type": "text"
      },
      "source": [
        "Factor plot"
      ]
    },
    {
      "cell_type": "code",
      "metadata": {
        "id": "vvvQxOv0D6vf",
        "colab_type": "code",
        "colab": {
          "base_uri": "https://localhost:8080/",
          "height": 422
        },
        "outputId": "e9cddb49-b1c1-4973-8438-f3e0c12533d5"
      },
      "source": [
        "\n",
        "df['ozone_label'] = df['Result'].apply(lambda value: 'Non Ozone Day' if value == 0 else 'Ozone Day')\n",
        "df['ozone_label'] = pd.Categorical(df['ozone_label'], categories=['Non Ozone Day', 'Ozone Day'])\n",
        "# Visualizing 3-D categorical data using bar plots\n",
        "# leveraging the concepts of hue and facets\n",
        "fc = sns.factorplot(x=\"T_PK\", hue=\"Result\", col=\"ozone_label\", \n",
        "                    data=df, kind=\"count\")"
      ],
      "execution_count": 81,
      "outputs": [
        {
          "output_type": "stream",
          "text": [
            "/usr/local/lib/python3.6/dist-packages/seaborn/categorical.py:3666: UserWarning: The `factorplot` function has been renamed to `catplot`. The original name will be removed in a future release. Please update your code. Note that the default `kind` in `factorplot` (`'point'`) has changed `'strip'` in `catplot`.\n",
            "  warnings.warn(msg)\n"
          ],
          "name": "stderr"
        },
        {
          "output_type": "display_data",
          "data": {
            "image/png": "[encoded data removed]",
            "text/plain": [
              "<Figure size 771.875x360 with 2 Axes>"
            ]
          },
          "metadata": {
            "tags": [],
            "needs_background": "light"
          }
        }
      ]
    },
    {
      "cell_type": "markdown",
      "metadata": {
        "id": "LBJ9_M2OEZDZ",
        "colab_type": "text"
      },
      "source": [
        "# Considering three models for prediction : "
      ]
    },
    {
      "cell_type": "markdown",
      "metadata": {
        "id": "g47iDkP2Et7W",
        "colab_type": "text"
      },
      "source": [
        "# 1) Support Vector Machine(SVM)\n"
      ]
    },
    {
      "cell_type": "code",
      "metadata": {
        "id": "mnQilNXSFDV3",
        "colab_type": "code",
        "colab": {
          "base_uri": "https://localhost:8080/",
          "height": 34
        },
        "outputId": "967a7070-f821-4746-9b8b-53ddf238a468"
      },
      "source": [
        "from sklearn import svm \n",
        "#Using linear kernel\n",
        "clf =svm.SVC(kernel = 'linear')\n",
        "#Fitting the model \n",
        "clf.fit(X_train,y_train)\n",
        "#Obtaining the predicted values\n",
        "y_pred  = clf.predict(X_test)\n",
        "\n",
        "#Evaluating the model\n",
        "from sklearn import metrics\n",
        "from sklearn.metrics import accuracy_score\n",
        "#Getting the accuracy of the model\n",
        "print(\"The accuracy is {}\".format(accuracy_score(y_test,y_pred)))\n",
        "\n"
      ],
      "execution_count": 82,
      "outputs": [
        {
          "output_type": "stream",
          "text": [
            "The accuracy is 0.9400630914826499\n"
          ],
          "name": "stdout"
        }
      ]
    },
    {
      "cell_type": "markdown",
      "metadata": {
        "id": "AFdrbidNG1_b",
        "colab_type": "text"
      },
      "source": [
        "# 2)KNearestNeighbors(KNN)"
      ]
    },
    {
      "cell_type": "code",
      "metadata": {
        "id": "CwdYQ30aG-Mt",
        "colab_type": "code",
        "colab": {
          "base_uri": "https://localhost:8080/",
          "height": 34
        },
        "outputId": "c1b73606-40cb-413f-f1ca-b9959c4f07ce"
      },
      "source": [
        "from sklearn.neighbors import KNeighborsClassifier\n",
        "knn = KNeighborsClassifier(n_neighbors =5)\n",
        "#Fitting the model \n",
        "knn.fit(X_train,y_train)\n",
        "#Getting the predictions\n",
        "y_pred = knn.predict(X_test)\n",
        "\n",
        "#Evaluating the model\n",
        "print(\"The accuracy is {}\".format(accuracy_score(y_test,y_pred)))\n"
      ],
      "execution_count": 84,
      "outputs": [
        {
          "output_type": "stream",
          "text": [
            "The accuracy is 0.9369085173501577\n"
          ],
          "name": "stdout"
        }
      ]
    },
    {
      "cell_type": "markdown",
      "metadata": {
        "id": "DYPFhLmOtbBv",
        "colab_type": "text"
      },
      "source": [
        "# 3) Deep Neural Network (DNN)"
      ]
    },
    {
      "cell_type": "code",
      "metadata": {
        "id": "hAzogYxstkrZ",
        "colab_type": "code",
        "colab": {}
      },
      "source": [
        "import keras\n",
        "from keras.optimizers import Adam\n",
        "from keras.models import Sequential\n",
        "from keras.layers import Dense, BatchNormalization\n",
        "\n"
      ],
      "execution_count": 85,
      "outputs": []
    },
    {
      "cell_type": "markdown",
      "metadata": {
        "id": "PS7r_4yjuKaJ",
        "colab_type": "text"
      },
      "source": [
        "Normalizing the data and converting it into a Gaussian distribution"
      ]
    },
    {
      "cell_type": "code",
      "metadata": {
        "id": "69y_XPM4uSz3",
        "colab_type": "code",
        "colab": {
          "base_uri": "https://localhost:8080/",
          "height": 319
        },
        "outputId": "eac66804-ee12-4d6a-fe17-a98bc6a4215f"
      },
      "source": [
        "from sklearn.preprocessing import StandardScaler \n",
        "sc = StandardScaler() \n",
        "\n",
        "X_train = sc.fit_transform(X_train)\n",
        "X_test = sc.transform(X_test)\n",
        "# Initialising the initializer which generates the  tensord with a normal distribution\n",
        "initializer = keras.initializers.RandomNormal(mean =0.0 ,  stddev = 0.05, seed =42)\n",
        "#Defining the model \n",
        "model = Sequential()\n",
        "model.add(Dense(100, kernel_initializer=initializer, input_dim=72, activation= \"relu\"))\n",
        "model.add(BatchNormalization())\n",
        "model.add(Dense(50, kernel_initializer=initializer, activation= \"relu\"))\n",
        "model.add(BatchNormalization())\n",
        "model.add(Dense(1, kernel_initializer=initializer, activation= \"sigmoid\")) \n",
        "\n",
        "#Getting the summary of the model\n",
        "model.summary()\n",
        "\n",
        "#Getting the cross entropy loss of the model and setting the optimizer \n",
        "#adam = keras.optimizers.Adam(lr= 0.001, beta_1 =0.9, beta_2 = 0.999, epsilon =None, decay= 0.0 ,amsgrad= False)\n",
        "\n"
      ],
      "execution_count": 60,
      "outputs": [
        {
          "output_type": "stream",
          "text": [
            "Model: \"sequential_9\"\n",
            "_________________________________________________________________\n",
            "Layer (type)                 Output Shape              Param #   \n",
            "=================================================================\n",
            "dense_16 (Dense)             (None, 100)               7300      \n",
            "_________________________________________________________________\n",
            "batch_normalization_11 (Batc (None, 100)               400       \n",
            "_________________________________________________________________\n",
            "dense_17 (Dense)             (None, 50)                5050      \n",
            "_________________________________________________________________\n",
            "batch_normalization_12 (Batc (None, 50)                200       \n",
            "_________________________________________________________________\n",
            "dense_18 (Dense)             (None, 1)                 51        \n",
            "=================================================================\n",
            "Total params: 13,001\n",
            "Trainable params: 12,701\n",
            "Non-trainable params: 300\n",
            "_________________________________________________________________\n"
          ],
          "name": "stdout"
        }
      ]
    },
    {
      "cell_type": "code",
      "metadata": {
        "id": "a0h4MH5J0L70",
        "colab_type": "code",
        "colab": {
          "base_uri": "https://localhost:8080/",
          "height": 370
        },
        "outputId": "c0bad5b2-b6f9-4e00-ffc5-03e8ab1e73a0"
      },
      "source": [
        "#Compiling the model \n",
        "model.compile(loss=\"binary_crossentropy\" , optimizer='adam', metrics=[\"accuracy\"])\n",
        "fitted_model = model.fit(X_train, y_train, validation_split=0.25, epochs=10, verbose=1)"
      ],
      "execution_count": 64,
      "outputs": [
        {
          "output_type": "stream",
          "text": [
            "Train on 1425 samples, validate on 475 samples\n",
            "Epoch 1/10\n",
            "1425/1425 [==============================] - 0s 335us/step - loss: 0.0845 - accuracy: 0.9684 - val_loss: 0.2056 - val_accuracy: 0.9389\n",
            "Epoch 2/10\n",
            "1425/1425 [==============================] - 0s 69us/step - loss: 0.0803 - accuracy: 0.9719 - val_loss: 0.1944 - val_accuracy: 0.9305\n",
            "Epoch 3/10\n",
            "1425/1425 [==============================] - 0s 66us/step - loss: 0.0758 - accuracy: 0.9733 - val_loss: 0.2097 - val_accuracy: 0.9263\n",
            "Epoch 4/10\n",
            "1425/1425 [==============================] - 0s 68us/step - loss: 0.0661 - accuracy: 0.9754 - val_loss: 0.2420 - val_accuracy: 0.9221\n",
            "Epoch 5/10\n",
            "1425/1425 [==============================] - 0s 66us/step - loss: 0.0617 - accuracy: 0.9775 - val_loss: 0.2299 - val_accuracy: 0.9347\n",
            "Epoch 6/10\n",
            "1425/1425 [==============================] - 0s 67us/step - loss: 0.0519 - accuracy: 0.9832 - val_loss: 0.2244 - val_accuracy: 0.9263\n",
            "Epoch 7/10\n",
            "1425/1425 [==============================] - 0s 67us/step - loss: 0.0540 - accuracy: 0.9804 - val_loss: 0.2832 - val_accuracy: 0.9263\n",
            "Epoch 8/10\n",
            "1425/1425 [==============================] - 0s 66us/step - loss: 0.0608 - accuracy: 0.9796 - val_loss: 0.2033 - val_accuracy: 0.9411\n",
            "Epoch 9/10\n",
            "1425/1425 [==============================] - 0s 67us/step - loss: 0.0350 - accuracy: 0.9902 - val_loss: 0.2417 - val_accuracy: 0.9368\n",
            "Epoch 10/10\n",
            "1425/1425 [==============================] - 0s 71us/step - loss: 0.0416 - accuracy: 0.9860 - val_loss: 0.2764 - val_accuracy: 0.9284\n"
          ],
          "name": "stdout"
        }
      ]
    },
    {
      "cell_type": "markdown",
      "metadata": {
        "id": "Saoyh1gZ2wZv",
        "colab_type": "text"
      },
      "source": [
        "Hence accuracy obtained after 8 epochs is 97.9% and validation_accuracy is 94.1%"
      ]
    }
  ]
}